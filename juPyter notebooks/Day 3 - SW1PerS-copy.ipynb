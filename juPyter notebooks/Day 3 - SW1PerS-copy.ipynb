{
 "cells": [
  {
   "cell_type": "markdown",
   "id": "1342af2a",
   "metadata": {},
   "source": [
    "# SW1PerS: Sliding Windows and 1-Persistence Scoring\n",
    "\n",
    "### MSRI-UP 2023\n",
    "\n",
    "Authors: Jose Perea \n",
    "\n",
    "Date: 06/14/2023\n",
    "\n",
    "\n",
    "---\n"
   ]
  },
  {
   "cell_type": "markdown",
   "id": "8878782f",
   "metadata": {},
   "source": [
    "### Activity: \n",
    "\n",
    "Write a python function which takes as input a time series $f$, enconded as a list or an array, a time delay $\\tau > 0$, an embedding dimension $d \\in \\mathbb{N}$, a number of points `n_data`, and returns the corresponding sliding window point cloud   "
   ]
  },
  {
   "cell_type": "code",
   "execution_count": 104,
   "id": "e09e8012",
   "metadata": {},
   "outputs": [],
   "source": [
    "## Your work here\n",
    "from scipy.interpolate import CubicSpline\n",
    "\n",
    "#this makes me sad :/\n",
    "\n",
    "#n_data is a list of values?\n",
    "#steps to this function:\n",
    "#for a single point in n_data, create the outputs using dim\n",
    "#find the corresponding output via our data set\n",
    "\n",
    "#before I thought I would just plot the data and then try and find a best fit, but not I am not sure of that\n",
    "#what if my data is more than 3 dimensions?\n",
    "\n",
    "#next, I want to create a method of searching a list and finding the desired output\n",
    "#here I want to search the first column of inputs, find its match and then return the index\n",
    "#then I want to hop to the second column and using that index, pull the output\n",
    "\n",
    "#I need a contingency to handle if my iterated point is not found, I can have the function return None\n",
    "#then I simply skip this point and move onto the next\n",
    " \n",
    "\n",
    "def cubic_cloud(f, tau, dim, n_data):\n",
    "    #f is to be viewed as an array of two columns of data\n",
    "    \n",
    "    #Section 1: Creating our test inputs for respective sliding windows\n",
    "    init = []\n",
    "    len_range = len(f[0])\n",
    "    cloud_1 = []\n",
    "    for numb in range(dim+1):\n",
    "        cloud_1.append([])\n",
    "    C = (f[0][len_range-1] - dim*tau - f[0][0])/(n_data)\n",
    "    for par in range(n_data + 1):\n",
    "        init.append(f[0][0] + par*C)\n",
    "    row=0\n",
    "    for pt in init:\n",
    "        for x in range(dim+1):\n",
    "            cloud_1[x].append(pt + x*tau)\n",
    "            \n",
    "    #Section 2: Applying the CubicSpline function to get the output matrix\n",
    "    cubic = CubicSpline(f[0],f[1])\n",
    "    cloud_2 = []\n",
    "    for j in range(dim+1):\n",
    "        cloud_2.append(cubic(cloud_1[j]))\n",
    "    \n",
    "    return np.array(cloud_1), np.array(cloud_2)"
   ]
  },
  {
   "cell_type": "code",
   "execution_count": 105,
   "id": "23a78a45",
   "metadata": {},
   "outputs": [],
   "source": [
    "## Test it here\n",
    "import pandas as pd\n",
    "import numpy as np\n",
    "import math\n",
    "\n",
    "#Creating a synthetic data set\n",
    "input_1 = np.linspace(0, 6*np.pi, 200)\n",
    "output = np.sin(input_1)\n",
    "df = [input_1, output]\n",
    "# print(len(df[0]))\n",
    "# print(len(df[0][0:]))\n",
    "# print(df[0][0:])\n",
    "\n",
    "\n",
    "\n",
    "#Now, try to create a window \n",
    "\n",
    "# # hughes2009-liver_res.xlsx\n",
    "# df = pd.read_excel('data/hughes2009-liver_res.xlsx')\n",
    "\n",
    "# print(df)\n",
    "\n",
    "# for x in range(6+1):\n",
    "#     print(x) \n",
    "\n",
    "# cubic = CubicSpline(df[0],df[1])\n",
    "# print(df)\n",
    "# cubic(df[0])\n",
    "\n",
    "\n",
    "\n",
    "# X, Y = cubic_cloud(df, 0.1, 5, 6)\n",
    "# print(X,Y)"
   ]
  },
  {
   "cell_type": "code",
   "execution_count": null,
   "id": "violent-strap",
   "metadata": {},
   "outputs": [],
   "source": []
  },
  {
   "cell_type": "code",
   "execution_count": null,
   "id": "cardiac-miami",
   "metadata": {},
   "outputs": [],
   "source": []
  },
  {
   "cell_type": "code",
   "execution_count": null,
   "id": "derived-bradley",
   "metadata": {},
   "outputs": [],
   "source": []
  },
  {
   "cell_type": "code",
   "execution_count": null,
   "id": "light-tower",
   "metadata": {},
   "outputs": [],
   "source": []
  },
  {
   "cell_type": "code",
   "execution_count": null,
   "id": "coupled-bachelor",
   "metadata": {},
   "outputs": [],
   "source": []
  },
  {
   "cell_type": "code",
   "execution_count": null,
   "id": "trying-birmingham",
   "metadata": {},
   "outputs": [],
   "source": []
  },
  {
   "cell_type": "code",
   "execution_count": null,
   "id": "elegant-vertical",
   "metadata": {},
   "outputs": [],
   "source": [
    "\n"
   ]
  },
  {
   "cell_type": "markdown",
   "id": "9bb57d08",
   "metadata": {},
   "source": [
    "### Activity"
   ]
  }
 ],
 "metadata": {
  "kernelspec": {
   "display_name": "Python 3",
   "language": "python",
   "name": "python3"
  },
  "language_info": {
   "codemirror_mode": {
    "name": "ipython",
    "version": 3
   },
   "file_extension": ".py",
   "mimetype": "text/x-python",
   "name": "python",
   "nbconvert_exporter": "python",
   "pygments_lexer": "ipython3",
   "version": "3.8.3"
  }
 },
 "nbformat": 4,
 "nbformat_minor": 5
}
